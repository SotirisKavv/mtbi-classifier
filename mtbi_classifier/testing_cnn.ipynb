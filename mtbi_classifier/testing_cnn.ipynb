{
 "cells": [
  {
   "cell_type": "markdown",
   "metadata": {},
   "source": [
    "Libraries/module Imports"
   ]
  },
  {
   "cell_type": "code",
   "execution_count": 1,
   "metadata": {},
   "outputs": [],
   "source": [
    "#   Custom imports for testing\n",
    "from classification.cnn import CNNClassifier, GraphDataset, DataLoader\n",
    "from utils.import_data import import_all_data, import_panda_csv\n",
    "from utils.constants import BAND_NAMES\n",
    "from utils.plot_fig import (\n",
    "    plot_avg_roc_curve,\n",
    "    plot_accuracies,\n",
    "    plot_losses\n",
    ")\n",
    "\n",
    "%load_ext autoreload\n",
    "%autoreload 2"
   ]
  },
  {
   "cell_type": "code",
   "execution_count": 2,
   "metadata": {},
   "outputs": [],
   "source": [
    "#   Python imports\n",
    "import numpy as np"
   ]
  },
  {
   "cell_type": "code",
   "execution_count": 3,
   "metadata": {},
   "outputs": [],
   "source": [
    "#   Plotting imports\n",
    "import matplotlib.pyplot as plt\n",
    "import seaborn as sns\n",
    "\n",
    "%matplotlib inline\n",
    "sns.set_theme(style=\"whitegrid\")"
   ]
  },
  {
   "cell_type": "code",
   "execution_count": 4,
   "metadata": {},
   "outputs": [],
   "source": [
    "import warnings\n",
    "\n",
    "# Suppress specific warning\n",
    "warnings.filterwarnings(\"ignore\", category=RuntimeWarning, module=\"scipy.stats\")"
   ]
  },
  {
   "cell_type": "markdown",
   "metadata": {},
   "source": [
    "Import data"
   ]
  },
  {
   "cell_type": "code",
   "execution_count": 5,
   "metadata": {},
   "outputs": [
    {
     "name": "stdout",
     "output_type": "stream",
     "text": [
      "\u001b[2KData loaded successfully!\n"
     ]
    }
   ],
   "source": [
    "labels = [c.strip() for c in import_panda_csv(\"../data/mTBI/sources_TBI_MEGM001.csv\").columns]\n",
    "graphs, targets = import_all_data(\"../graphs/multiplex/MI\")\n",
    "graphs = [graph.to_numpy() for graph in graphs]"
   ]
  },
  {
   "cell_type": "code",
   "execution_count": 6,
   "metadata": {},
   "outputs": [],
   "source": [
    "total_labels = [\"{}_{}\".format(band, label) for band in BAND_NAMES for label in labels]"
   ]
  },
  {
   "cell_type": "markdown",
   "metadata": {},
   "source": [
    "Nomralise the data"
   ]
  },
  {
   "cell_type": "code",
   "execution_count": 7,
   "metadata": {},
   "outputs": [],
   "source": [
    "for g in graphs:\n",
    "    norm = np.linalg.norm(g)\n",
    "    g = g/norm"
   ]
  },
  {
   "cell_type": "markdown",
   "metadata": {},
   "source": [
    "Convolutional Neural Network\n",
    "\n",
    "We use the architecture with the desired layers. After grid-searching the optimal hyperparameters, we check the accuracy of the model."
   ]
  },
  {
   "cell_type": "code",
   "execution_count": 8,
   "metadata": {},
   "outputs": [],
   "source": [
    "cnn = CNNClassifier(multilayer=True)"
   ]
  },
  {
   "cell_type": "markdown",
   "metadata": {},
   "source": [
    "Grid Search for optimal hyperparameters based on cross-validated accuracy"
   ]
  },
  {
   "cell_type": "code",
   "execution_count": 9,
   "metadata": {},
   "outputs": [
    {
     "name": "stdout",
     "output_type": "stream",
     "text": [
      " 92%|█████████▎| 37/40 [20:21:32<1:25:52, 1717.38s/trial, best loss: -0.9166666666666666] "
     ]
    }
   ],
   "source": [
    "cnn.hyperparameter_tuning(graphs, targets, multilayer=True, max_evals=40)"
   ]
  },
  {
   "cell_type": "markdown",
   "metadata": {},
   "source": [
    "Cross-Validation\n",
    "\n",
    "5-fold cross-validation repeated 300 times to obtain average accuracy and ROC AUC"
   ]
  },
  {
   "cell_type": "code",
   "execution_count": null,
   "metadata": {},
   "outputs": [],
   "source": [
    "# cnn = CNNClassifier(learning_rate=0.0011, batch_size=3, gamma=0.95)\n",
    "#   Accuracies\n",
    "accs = []\n",
    "stds = []\n",
    "\n",
    "#   ROC AUCs\n",
    "all_mean_fprs = []\n",
    "all_mean_tprs = []\n",
    "all_std_tprs = []\n",
    "all_aucs = []\n",
    "\n",
    "hist = None\n",
    "best_acc = 0.0\n",
    "\n",
    "for _ in range(5):\n",
    "    acc_params, roc_params, history = cnn.cross_validate(graphs, targets, 5, verbose=False, multilayer=True)\n",
    "    accs.append(acc_params[0])\n",
    "    stds.append(acc_params[1])\n",
    "    \n",
    "    all_mean_fprs.append(roc_params[0])\n",
    "    all_mean_tprs.append(roc_params[1])\n",
    "    all_std_tprs.append(roc_params[2])\n",
    "    all_aucs.append(roc_params[3])\n",
    "    \n",
    "    if (acc_params[0] > best_acc):\n",
    "        hist = history\n",
    "        best_acc = acc_params[0]\n",
    "    \n",
    "print(\"Accuracy: {:.4f} ± {:.4f}\".format(np.mean(accs), np.mean(stds)))"
   ]
  },
  {
   "cell_type": "markdown",
   "metadata": {},
   "source": [
    "Plot Results"
   ]
  },
  {
   "cell_type": "code",
   "execution_count": null,
   "metadata": {},
   "outputs": [],
   "source": [
    "mean_mean_fpr = np.mean(all_mean_fprs, axis=0)\n",
    "mean_mean_tpr = np.mean(all_mean_tprs, axis=0)\n",
    "mean_std_tpr = np.mean(all_std_tprs, axis=0)\n",
    "mean_auc = np.mean(all_aucs)\n",
    "\n",
    "plot_avg_roc_curve(mean_mean_fpr, mean_mean_tpr, mean_std_tpr, mean_auc)"
   ]
  },
  {
   "cell_type": "code",
   "execution_count": null,
   "metadata": {},
   "outputs": [],
   "source": [
    "dataset = GraphDataset(graphs, targets)\n",
    "dataset_loader = DataLoader(dataset, batch_size=3, shuffle=False)\n",
    "y, preds = cnn.predict(dataset_loader)\n",
    "print(y)\n",
    "print(preds)"
   ]
  },
  {
   "cell_type": "code",
   "execution_count": null,
   "metadata": {},
   "outputs": [],
   "source": [
    "# cnn = CNNClassifier(learning_rate=0.00019233, batch_size=4, gamma=0.840144, weight_decay=0.0001)\n",
    "plot_losses(hist)\n",
    "plot_accuracies(hist)"
   ]
  }
 ],
 "metadata": {
  "kernelspec": {
   "display_name": "Python 3",
   "language": "python",
   "name": "python3"
  },
  "language_info": {
   "codemirror_mode": {
    "name": "ipython",
    "version": 3
   },
   "file_extension": ".py",
   "mimetype": "text/x-python",
   "name": "python",
   "nbconvert_exporter": "python",
   "pygments_lexer": "ipython3",
   "version": "3.9.13"
  },
  "orig_nbformat": 4
 },
 "nbformat": 4,
 "nbformat_minor": 2
}
