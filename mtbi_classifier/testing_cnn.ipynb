{
 "cells": [
  {
   "cell_type": "markdown",
   "metadata": {},
   "source": [
    "Libraries/module Imports"
   ]
  },
  {
   "cell_type": "code",
   "execution_count": 1,
   "metadata": {},
   "outputs": [],
   "source": [
    "#   Custom imports for testing\n",
    "from classification.cnn import CNNClassifier, GraphDataset, DataLoader\n",
    "from utils.import_data import import_all_data, import_panda_csv\n",
    "from utils.constants import BAND_NAMES\n",
    "from utils.plot_fig import (\n",
    "    plot_avg_roc_curve,\n",
    "    plot_accuracies,\n",
    "    plot_losses\n",
    ")\n",
    "\n",
    "%load_ext autoreload\n",
    "%autoreload 2"
   ]
  },
  {
   "cell_type": "code",
   "execution_count": 2,
   "metadata": {},
   "outputs": [],
   "source": [
    "#   Python imports\n",
    "import numpy as np"
   ]
  },
  {
   "cell_type": "code",
   "execution_count": 3,
   "metadata": {},
   "outputs": [],
   "source": [
    "#   Plotting imports\n",
    "import matplotlib.pyplot as plt\n",
    "import seaborn as sns\n",
    "\n",
    "%matplotlib inline\n",
    "sns.set_theme(style=\"whitegrid\")"
   ]
  },
  {
   "cell_type": "code",
   "execution_count": 4,
   "metadata": {},
   "outputs": [],
   "source": [
    "import warnings\n",
    "\n",
    "# Suppress specific warning\n",
    "warnings.filterwarnings(\"ignore\", category=RuntimeWarning, module=\"scipy.stats\")"
   ]
  },
  {
   "cell_type": "markdown",
   "metadata": {},
   "source": [
    "Import data"
   ]
  },
  {
   "cell_type": "code",
   "execution_count": 5,
   "metadata": {},
   "outputs": [
    {
     "name": "stdout",
     "output_type": "stream",
     "text": [
      "\u001b[2KData loaded successfully!\n"
     ]
    }
   ],
   "source": [
    "labels = [c.strip() for c in import_panda_csv(\"../data/mTBI/sources_TBI_MEGM001.csv\").columns]\n",
    "graphs, targets = import_all_data(\"../graphs/full_multilayer/IPLV\")\n",
    "graphs = [graph.to_numpy() for graph in graphs]"
   ]
  },
  {
   "cell_type": "code",
   "execution_count": 6,
   "metadata": {},
   "outputs": [],
   "source": [
    "total_labels = [\"{}_{}\".format(band, label) for band in BAND_NAMES for label in labels]"
   ]
  },
  {
   "cell_type": "markdown",
   "metadata": {},
   "source": [
    "Nomralise the data"
   ]
  },
  {
   "cell_type": "code",
   "execution_count": 7,
   "metadata": {},
   "outputs": [],
   "source": [
    "for g in graphs:\n",
    "    norm = np.linalg.norm(g)\n",
    "    g = g/norm"
   ]
  },
  {
   "cell_type": "markdown",
   "metadata": {},
   "source": [
    "Convolutional Neural Network\n",
    "\n",
    "We use the architecture with the desired layers. After grid-searching the optimal hyperparameters, we check the accuracy of the model."
   ]
  },
  {
   "cell_type": "code",
   "execution_count": null,
   "metadata": {},
   "outputs": [],
   "source": [
    "cnn = CNNClassifier(multilayer=True)"
   ]
  },
  {
   "cell_type": "markdown",
   "metadata": {},
   "source": [
    "Grid Search for optimal hyperparameters based on cross-validated accuracy"
   ]
  },
  {
   "cell_type": "code",
   "execution_count": null,
   "metadata": {},
   "outputs": [],
   "source": [
    "lr_search = np.linspace(0.001, 0.0013, 4)\n",
    "bs_search = [3, 4, 5, 6]\n",
    "wd_search = [0.0]\n",
    "gamma_search = [0.8, 0.9, 0.95]\n",
    "\n",
    "\n",
    "cnn.hyperparameter_tuning(graphs, targets, lr_search, bs_search, wd_search, gamma_search, multilayer=True)"
   ]
  },
  {
   "cell_type": "markdown",
   "metadata": {},
   "source": [
    "Cross-Validation\n",
    "\n",
    "5-fold cross-validation repeated 300 times to obtain average accuracy and ROC AUC"
   ]
  },
  {
   "cell_type": "code",
   "execution_count": null,
   "metadata": {},
   "outputs": [],
   "source": [
    "# cnn = CNNClassifier(learning_rate=0.0011, batch_size=3, gamma=0.95)\n",
    "#   Accuracies\n",
    "accs = []\n",
    "stds = []\n",
    "\n",
    "#   ROC AUCs\n",
    "all_mean_fprs = []\n",
    "all_mean_tprs = []\n",
    "all_std_tprs = []\n",
    "all_aucs = []\n",
    "\n",
    "hist = None\n",
    "best_acc = 0.0\n",
    "\n",
    "for _ in range(5):\n",
    "    acc_params, roc_params, history = cnn.cross_validate(graphs, targets, 5, verbose=False, multilayer=True)\n",
    "    accs.append(acc_params[0])\n",
    "    stds.append(acc_params[1])\n",
    "    \n",
    "    all_mean_fprs.append(roc_params[0])\n",
    "    all_mean_tprs.append(roc_params[1])\n",
    "    all_std_tprs.append(roc_params[2])\n",
    "    all_aucs.append(roc_params[3])\n",
    "    \n",
    "    if (acc_params[0] > best_acc):\n",
    "        hist = history\n",
    "        best_acc = acc_params[0]\n",
    "    \n",
    "print(\"Accuracy: {:.4f} ± {:.4f}\".format(np.mean(accs), np.mean(stds)))"
   ]
  },
  {
   "cell_type": "markdown",
   "metadata": {},
   "source": [
    "Plot Results"
   ]
  },
  {
   "cell_type": "code",
   "execution_count": null,
   "metadata": {},
   "outputs": [],
   "source": [
    "mean_mean_fpr = np.mean(all_mean_fprs, axis=0)\n",
    "mean_mean_tpr = np.mean(all_mean_tprs, axis=0)\n",
    "mean_std_tpr = np.mean(all_std_tprs, axis=0)\n",
    "mean_auc = np.mean(all_aucs)\n",
    "\n",
    "plot_avg_roc_curve(mean_mean_fpr, mean_mean_tpr, mean_std_tpr, mean_auc)"
   ]
  },
  {
   "cell_type": "code",
   "execution_count": 34,
   "metadata": {},
   "outputs": [
    {
     "name": "stdout",
     "output_type": "stream",
     "text": [
      "[0 0 0 0 0 0 0 0 0 0 0 0 0 0 0 0 0 0 0 0 0 0 0 0 0 0 0 0 0 0 1 1 1 1 1 1 1\n",
      " 1 1 1 1 1 1 1 1 1 1 1 1 1 1 1 1 1 1 1 1 1 1 1]\n",
      "[0 0 0 0 0 1 0 0 0 1 1 1 1 1 1 0 0 1 0 1 0 0 0 0 0 0 0 0 1 0 1 1 1 1 0 1 1\n",
      " 1 0 1 0 0 1 1 1 1 1 1 1 1 1 1 1 1 1 1 1 1 1 1]\n"
     ]
    }
   ],
   "source": [
    "dataset = GraphDataset(graphs, targets)\n",
    "dataset_loader = DataLoader(dataset, batch_size=3, shuffle=False)\n",
    "y, preds = cnn.predict(dataset_loader)\n",
    "print(y)\n",
    "print(preds)"
   ]
  },
  {
   "cell_type": "code",
   "execution_count": 35,
   "metadata": {},
   "outputs": [
    {
     "name": "stdout",
     "output_type": "stream",
     "text": [
      "Epoch [1]:\tTraining loss: 0.7659\tTraining Accuracy: 0.4722\tValidation loss: 0.7090\tValidation accuracy: 0.3333\n",
      "Epoch [2]:\tTraining loss: 0.7009\tTraining Accuracy: 0.3056\tValidation loss: 0.6922\tValidation accuracy: 0.5833\n",
      "Epoch [3]:\tTraining loss: 0.6732\tTraining Accuracy: 0.6111\tValidation loss: 0.6599\tValidation accuracy: 0.6667\n",
      "Epoch [4]:\tTraining loss: 0.6653\tTraining Accuracy: 0.5556\tValidation loss: 0.6523\tValidation accuracy: 0.6667\n",
      "Epoch [5]:\tTraining loss: 0.6566\tTraining Accuracy: 0.5556\tValidation loss: 0.6433\tValidation accuracy: 0.6667\n",
      "Epoch [6]:\tTraining loss: 0.6405\tTraining Accuracy: 0.5556\tValidation loss: 0.6662\tValidation accuracy: 0.6667\n",
      "Epoch [7]:\tTraining loss: 0.6310\tTraining Accuracy: 0.9444\tValidation loss: 0.6610\tValidation accuracy: 0.6667\n",
      "Epoch [8]:\tTraining loss: 0.5951\tTraining Accuracy: 0.6111\tValidation loss: 0.6354\tValidation accuracy: 0.6667\n",
      "Epoch [9]:\tTraining loss: 0.5745\tTraining Accuracy: 0.6944\tValidation loss: 0.6675\tValidation accuracy: 0.9167\n",
      "Epoch [10]:\tTraining loss: 0.5109\tTraining Accuracy: 1.0000\tValidation loss: 0.6444\tValidation accuracy: 0.6667\n",
      "Epoch [11]:\tTraining loss: 0.4731\tTraining Accuracy: 0.8333\tValidation loss: 0.6153\tValidation accuracy: 0.6667\n",
      "Epoch [12]:\tTraining loss: 0.3710\tTraining Accuracy: 1.0000\tValidation loss: 0.6410\tValidation accuracy: 0.9167\n",
      "Epoch [13]:\tTraining loss: 0.3041\tTraining Accuracy: 1.0000\tValidation loss: 0.5905\tValidation accuracy: 0.6667\n",
      "Epoch [14]:\tTraining loss: 0.2200\tTraining Accuracy: 1.0000\tValidation loss: 0.5750\tValidation accuracy: 0.7500\n",
      "Epoch [15]:\tTraining loss: 0.1442\tTraining Accuracy: 1.0000\tValidation loss: 0.5450\tValidation accuracy: 0.6667\n",
      "Epoch [16]:\tTraining loss: 0.0956\tTraining Accuracy: 1.0000\tValidation loss: 0.5504\tValidation accuracy: 0.9167\n",
      "Epoch [17]:\tTraining loss: 0.0498\tTraining Accuracy: 1.0000\tValidation loss: 0.5196\tValidation accuracy: 0.7500\n",
      "Epoch [18]:\tTraining loss: 0.0357\tTraining Accuracy: 1.0000\tValidation loss: 0.5295\tValidation accuracy: 0.8333\n",
      "Epoch [19]:\tTraining loss: 0.0222\tTraining Accuracy: 1.0000\tValidation loss: 0.4943\tValidation accuracy: 0.7500\n",
      "Epoch [20]:\tTraining loss: 0.0163\tTraining Accuracy: 1.0000\tValidation loss: 0.5000\tValidation accuracy: 0.8333\n",
      "Epoch [21]:\tTraining loss: 0.0125\tTraining Accuracy: 1.0000\tValidation loss: 0.4888\tValidation accuracy: 0.8333\n",
      "Epoch [22]:\tTraining loss: 0.0104\tTraining Accuracy: 1.0000\tValidation loss: 0.4794\tValidation accuracy: 0.7500\n",
      "Epoch [23]:\tTraining loss: 0.0089\tTraining Accuracy: 1.0000\tValidation loss: 0.4862\tValidation accuracy: 0.7500\n",
      "Epoch [24]:\tTraining loss: 0.0075\tTraining Accuracy: 1.0000\tValidation loss: 0.4748\tValidation accuracy: 0.7500\n",
      "Epoch [25]:\tTraining loss: 0.0066\tTraining Accuracy: 1.0000\tValidation loss: 0.4722\tValidation accuracy: 0.7500\n",
      "Epoch [26]:\tTraining loss: 0.0058\tTraining Accuracy: 1.0000\tValidation loss: 0.4714\tValidation accuracy: 0.8333\n",
      "Epoch [27]:\tTraining loss: 0.0051\tTraining Accuracy: 1.0000\tValidation loss: 0.4691\tValidation accuracy: 0.8333\n",
      "Epoch [28]:\tTraining loss: 0.0046\tTraining Accuracy: 1.0000\tValidation loss: 0.4646\tValidation accuracy: 0.7500\n",
      "Epoch [29]:\tTraining loss: 0.0042\tTraining Accuracy: 1.0000\tValidation loss: 0.4662\tValidation accuracy: 0.7500\n",
      "Epoch [30]:\tTraining loss: 0.0037\tTraining Accuracy: 1.0000\tValidation loss: 0.4624\tValidation accuracy: 0.8333\n",
      "Epoch [31]:\tTraining loss: 0.0034\tTraining Accuracy: 1.0000\tValidation loss: 0.4604\tValidation accuracy: 0.8333\n",
      "Epoch [32]:\tTraining loss: 0.0032\tTraining Accuracy: 1.0000\tValidation loss: 0.4598\tValidation accuracy: 0.8333\n",
      "Epoch [33]:\tTraining loss: 0.0030\tTraining Accuracy: 1.0000\tValidation loss: 0.4576\tValidation accuracy: 0.7500\n",
      "Epoch [34]:\tTraining loss: 0.0028\tTraining Accuracy: 1.0000\tValidation loss: 0.4566\tValidation accuracy: 0.7500\n",
      "Epoch [35]:\tTraining loss: 0.0026\tTraining Accuracy: 1.0000\tValidation loss: 0.4560\tValidation accuracy: 0.8333\n",
      "Epoch [36]:\tTraining loss: 0.0025\tTraining Accuracy: 1.0000\tValidation loss: 0.4570\tValidation accuracy: 0.7500\n",
      "Epoch [37]:\tTraining loss: 0.0023\tTraining Accuracy: 1.0000\tValidation loss: 0.4545\tValidation accuracy: 0.7500\n",
      "Epoch [38]:\tTraining loss: 0.0022\tTraining Accuracy: 1.0000\tValidation loss: 0.4526\tValidation accuracy: 0.7500\n",
      "Epoch [39]:\tTraining loss: 0.0021\tTraining Accuracy: 1.0000\tValidation loss: 0.4518\tValidation accuracy: 0.8333\n",
      "Epoch [40]:\tTraining loss: 0.0020\tTraining Accuracy: 1.0000\tValidation loss: 0.4523\tValidation accuracy: 0.7500\n",
      "Epoch [41]:\tTraining loss: 0.0018\tTraining Accuracy: 1.0000\tValidation loss: 0.4515\tValidation accuracy: 0.7500\n",
      "Epoch [42]:\tTraining loss: 0.0018\tTraining Accuracy: 1.0000\tValidation loss: 0.4498\tValidation accuracy: 0.8333\n",
      "Epoch [43]:\tTraining loss: 0.0017\tTraining Accuracy: 1.0000\tValidation loss: 0.4494\tValidation accuracy: 0.7500\n",
      "Epoch [44]:\tTraining loss: 0.0016\tTraining Accuracy: 1.0000\tValidation loss: 0.4489\tValidation accuracy: 0.7500\n",
      "Epoch [45]:\tTraining loss: 0.0016\tTraining Accuracy: 1.0000\tValidation loss: 0.4483\tValidation accuracy: 0.7500\n",
      "Epoch [46]:\tTraining loss: 0.0015\tTraining Accuracy: 1.0000\tValidation loss: 0.4475\tValidation accuracy: 0.7500\n",
      "Epoch [47]:\tTraining loss: 0.0014\tTraining Accuracy: 1.0000\tValidation loss: 0.4473\tValidation accuracy: 0.7500\n",
      "Epoch [48]:\tTraining loss: 0.0014\tTraining Accuracy: 1.0000\tValidation loss: 0.4466\tValidation accuracy: 0.7500\n",
      "Epoch [49]:\tTraining loss: 0.0013\tTraining Accuracy: 1.0000\tValidation loss: 0.4463\tValidation accuracy: 0.7500\n",
      "Epoch [50]:\tTraining loss: 0.0013\tTraining Accuracy: 1.0000\tValidation loss: 0.4454\tValidation accuracy: 0.7500\n",
      "Epoch [51]:\tTraining loss: 0.0012\tTraining Accuracy: 1.0000\tValidation loss: 0.4453\tValidation accuracy: 0.7500\n",
      "Epoch [52]:\tTraining loss: 0.0012\tTraining Accuracy: 1.0000\tValidation loss: 0.4448\tValidation accuracy: 0.7500\n",
      "Epoch [53]:\tTraining loss: 0.0012\tTraining Accuracy: 1.0000\tValidation loss: 0.4444\tValidation accuracy: 0.7500\n",
      "Epoch [54]:\tTraining loss: 0.0011\tTraining Accuracy: 1.0000\tValidation loss: 0.4442\tValidation accuracy: 0.7500\n",
      "Epoch [55]:\tTraining loss: 0.0011\tTraining Accuracy: 1.0000\tValidation loss: 0.4438\tValidation accuracy: 0.7500\n",
      "Epoch [56]:\tTraining loss: 0.0011\tTraining Accuracy: 1.0000\tValidation loss: 0.4431\tValidation accuracy: 0.7500\n",
      "Epoch [57]:\tTraining loss: 0.0010\tTraining Accuracy: 1.0000\tValidation loss: 0.4428\tValidation accuracy: 0.6667\n",
      "Epoch [58]:\tTraining loss: 0.0010\tTraining Accuracy: 1.0000\tValidation loss: 0.4425\tValidation accuracy: 0.7500\n",
      "Epoch [59]:\tTraining loss: 0.0010\tTraining Accuracy: 1.0000\tValidation loss: 0.4422\tValidation accuracy: 0.7500\n",
      "Epoch [60]:\tTraining loss: 0.0010\tTraining Accuracy: 1.0000\tValidation loss: 0.4419\tValidation accuracy: 0.7500\n",
      "Epoch [61]:\tTraining loss: 0.0009\tTraining Accuracy: 1.0000\tValidation loss: 0.4417\tValidation accuracy: 0.7500\n",
      "Epoch [62]:\tTraining loss: 0.0009\tTraining Accuracy: 1.0000\tValidation loss: 0.4413\tValidation accuracy: 0.7500\n",
      "Epoch [63]:\tTraining loss: 0.0009\tTraining Accuracy: 1.0000\tValidation loss: 0.4410\tValidation accuracy: 0.7500\n",
      "Epoch [64]:\tTraining loss: 0.0009\tTraining Accuracy: 1.0000\tValidation loss: 0.4408\tValidation accuracy: 0.7500\n",
      "Epoch [65]:\tTraining loss: 0.0009\tTraining Accuracy: 1.0000\tValidation loss: 0.4406\tValidation accuracy: 0.7500\n",
      "Epoch [66]:\tTraining loss: 0.0008\tTraining Accuracy: 1.0000\tValidation loss: 0.4404\tValidation accuracy: 0.7500\n",
      "Epoch [67]:\tTraining loss: 0.0008\tTraining Accuracy: 1.0000\tValidation loss: 0.4400\tValidation accuracy: 0.7500\n",
      "Epoch [68]:\tTraining loss: 0.0008\tTraining Accuracy: 1.0000\tValidation loss: 0.4398\tValidation accuracy: 0.7500\n",
      "Epoch [69]:\tTraining loss: 0.0008\tTraining Accuracy: 1.0000\tValidation loss: 0.4396\tValidation accuracy: 0.7500\n",
      "Epoch [70]:\tTraining loss: 0.0008\tTraining Accuracy: 1.0000\tValidation loss: 0.4394\tValidation accuracy: 0.7500\n",
      "Epoch [71]:\tTraining loss: 0.0008\tTraining Accuracy: 1.0000\tValidation loss: 0.4392\tValidation accuracy: 0.7500\n",
      "Epoch [72]:\tTraining loss: 0.0007\tTraining Accuracy: 1.0000\tValidation loss: 0.4391\tValidation accuracy: 0.7500\n",
      "Epoch [73]:\tTraining loss: 0.0007\tTraining Accuracy: 1.0000\tValidation loss: 0.4389\tValidation accuracy: 0.7500\n",
      "Epoch [74]:\tTraining loss: 0.0007\tTraining Accuracy: 1.0000\tValidation loss: 0.4388\tValidation accuracy: 0.7500\n",
      "Epoch [75]:\tTraining loss: 0.0007\tTraining Accuracy: 1.0000\tValidation loss: 0.4386\tValidation accuracy: 0.7500\n",
      "Epoch [76]:\tTraining loss: 0.0007\tTraining Accuracy: 1.0000\tValidation loss: 0.4385\tValidation accuracy: 0.7500\n",
      "Epoch [77]:\tTraining loss: 0.0007\tTraining Accuracy: 1.0000\tValidation loss: 0.4384\tValidation accuracy: 0.7500\n",
      "Epoch [78]:\tTraining loss: 0.0007\tTraining Accuracy: 1.0000\tValidation loss: 0.4382\tValidation accuracy: 0.7500\n",
      "Epoch [79]:\tTraining loss: 0.0007\tTraining Accuracy: 1.0000\tValidation loss: 0.4380\tValidation accuracy: 0.7500\n",
      "Epoch [80]:\tTraining loss: 0.0007\tTraining Accuracy: 1.0000\tValidation loss: 0.4379\tValidation accuracy: 0.7500\n",
      "Epoch [81]:\tTraining loss: 0.0006\tTraining Accuracy: 1.0000\tValidation loss: 0.4378\tValidation accuracy: 0.7500\n",
      "Epoch [82]:\tTraining loss: 0.0006\tTraining Accuracy: 1.0000\tValidation loss: 0.4377\tValidation accuracy: 0.7500\n",
      "Epoch [83]:\tTraining loss: 0.0006\tTraining Accuracy: 1.0000\tValidation loss: 0.4375\tValidation accuracy: 0.7500\n",
      "Epoch [84]:\tTraining loss: 0.0006\tTraining Accuracy: 1.0000\tValidation loss: 0.4374\tValidation accuracy: 0.7500\n",
      "Epoch [85]:\tTraining loss: 0.0006\tTraining Accuracy: 1.0000\tValidation loss: 0.4373\tValidation accuracy: 0.7500\n",
      "Epoch [86]:\tTraining loss: 0.0006\tTraining Accuracy: 1.0000\tValidation loss: 0.4371\tValidation accuracy: 0.7500\n",
      "Epoch [87]:\tTraining loss: 0.0006\tTraining Accuracy: 1.0000\tValidation loss: 0.4370\tValidation accuracy: 0.7500\n",
      "Epoch [88]:\tTraining loss: 0.0006\tTraining Accuracy: 1.0000\tValidation loss: 0.4368\tValidation accuracy: 0.7500\n",
      "Epoch [89]:\tTraining loss: 0.0006\tTraining Accuracy: 1.0000\tValidation loss: 0.4367\tValidation accuracy: 0.7500\n",
      "Epoch [90]:\tTraining loss: 0.0006\tTraining Accuracy: 1.0000\tValidation loss: 0.4366\tValidation accuracy: 0.7500\n",
      "Epoch [91]:\tTraining loss: 0.0006\tTraining Accuracy: 1.0000\tValidation loss: 0.4365\tValidation accuracy: 0.7500\n",
      "Epoch [92]:\tTraining loss: 0.0006\tTraining Accuracy: 1.0000\tValidation loss: 0.4364\tValidation accuracy: 0.7500\n",
      "Epoch [93]:\tTraining loss: 0.0006\tTraining Accuracy: 1.0000\tValidation loss: 0.4363\tValidation accuracy: 0.7500\n",
      "Epoch [94]:\tTraining loss: 0.0006\tTraining Accuracy: 1.0000\tValidation loss: 0.4362\tValidation accuracy: 0.7500\n",
      "Epoch [95]:\tTraining loss: 0.0005\tTraining Accuracy: 1.0000\tValidation loss: 0.4361\tValidation accuracy: 0.7500\n",
      "Epoch [96]:\tTraining loss: 0.0005\tTraining Accuracy: 1.0000\tValidation loss: 0.4360\tValidation accuracy: 0.7500\n",
      "Epoch [97]:\tTraining loss: 0.0005\tTraining Accuracy: 1.0000\tValidation loss: 0.4359\tValidation accuracy: 0.7500\n",
      "Epoch [98]:\tTraining loss: 0.0005\tTraining Accuracy: 1.0000\tValidation loss: 0.4358\tValidation accuracy: 0.7500\n",
      "Epoch [99]:\tTraining loss: 0.0005\tTraining Accuracy: 1.0000\tValidation loss: 0.4356\tValidation accuracy: 0.7500\n",
      "Epoch [100]:\tTraining loss: 0.0005\tTraining Accuracy: 1.0000\tValidation loss: 0.4355\tValidation accuracy: 0.7500\n",
      "Epoch [101]:\tTraining loss: 0.0005\tTraining Accuracy: 1.0000\tValidation loss: 0.4354\tValidation accuracy: 0.7500\n",
      "Epoch [102]:\tTraining loss: 0.0005\tTraining Accuracy: 1.0000\tValidation loss: 0.4353\tValidation accuracy: 0.7500\n",
      "Epoch [103]:\tTraining loss: 0.0005\tTraining Accuracy: 1.0000\tValidation loss: 0.4353\tValidation accuracy: 0.7500\n",
      "Epoch [104]:\tTraining loss: 0.0005\tTraining Accuracy: 1.0000\tValidation loss: 0.4352\tValidation accuracy: 0.7500\n",
      "Epoch [105]:\tTraining loss: 0.0005\tTraining Accuracy: 1.0000\tValidation loss: 0.4351\tValidation accuracy: 0.7500\n",
      "Epoch [106]:\tTraining loss: 0.0005\tTraining Accuracy: 1.0000\tValidation loss: 0.4350\tValidation accuracy: 0.7500\n",
      "Epoch [107]:\tTraining loss: 0.0005\tTraining Accuracy: 1.0000\tValidation loss: 0.4349\tValidation accuracy: 0.7500\n",
      "Epoch [108]:\tTraining loss: 0.0005\tTraining Accuracy: 1.0000\tValidation loss: 0.4348\tValidation accuracy: 0.7500\n",
      "Epoch [109]:\tTraining loss: 0.0005\tTraining Accuracy: 1.0000\tValidation loss: 0.4348\tValidation accuracy: 0.7500\n",
      "Epoch [110]:\tTraining loss: 0.0005\tTraining Accuracy: 1.0000\tValidation loss: 0.4346\tValidation accuracy: 0.7500\n",
      "Epoch [111]:\tTraining loss: 0.0005\tTraining Accuracy: 1.0000\tValidation loss: 0.4346\tValidation accuracy: 0.7500\n",
      "Epoch [112]:\tTraining loss: 0.0005\tTraining Accuracy: 1.0000\tValidation loss: 0.4345\tValidation accuracy: 0.7500\n",
      "Epoch [113]:\tTraining loss: 0.0005\tTraining Accuracy: 1.0000\tValidation loss: 0.4344\tValidation accuracy: 0.7500\n",
      "Epoch [114]:\tTraining loss: 0.0005\tTraining Accuracy: 1.0000\tValidation loss: 0.4344\tValidation accuracy: 0.7500\n",
      "Epoch [115]:\tTraining loss: 0.0005\tTraining Accuracy: 1.0000\tValidation loss: 0.4343\tValidation accuracy: 0.7500\n",
      "Epoch [116]:\tTraining loss: 0.0005\tTraining Accuracy: 1.0000\tValidation loss: 0.4342\tValidation accuracy: 0.7500\n",
      "Epoch [117]:\tTraining loss: 0.0005\tTraining Accuracy: 1.0000\tValidation loss: 0.4341\tValidation accuracy: 0.7500\n",
      "Epoch [118]:\tTraining loss: 0.0005\tTraining Accuracy: 1.0000\tValidation loss: 0.4341\tValidation accuracy: 0.7500\n",
      "Epoch [119]:\tTraining loss: 0.0005\tTraining Accuracy: 1.0000\tValidation loss: 0.4340\tValidation accuracy: 0.7500\n",
      "Epoch [120]:\tTraining loss: 0.0004\tTraining Accuracy: 1.0000\tValidation loss: 0.4339\tValidation accuracy: 0.7500\n",
      "Epoch [121]:\tTraining loss: 0.0004\tTraining Accuracy: 1.0000\tValidation loss: 0.4339\tValidation accuracy: 0.7500\n",
      "Epoch [122]:\tTraining loss: 0.0004\tTraining Accuracy: 1.0000\tValidation loss: 0.4338\tValidation accuracy: 0.7500\n",
      "Epoch [123]:\tTraining loss: 0.0004\tTraining Accuracy: 1.0000\tValidation loss: 0.4338\tValidation accuracy: 0.7500\n",
      "Epoch [124]:\tTraining loss: 0.0004\tTraining Accuracy: 1.0000\tValidation loss: 0.4337\tValidation accuracy: 0.7500\n",
      "Epoch [125]:\tTraining loss: 0.0004\tTraining Accuracy: 1.0000\tValidation loss: 0.4336\tValidation accuracy: 0.7500\n",
      "Epoch [126]:\tTraining loss: 0.0004\tTraining Accuracy: 1.0000\tValidation loss: 0.4336\tValidation accuracy: 0.7500\n",
      "Epoch [127]:\tTraining loss: 0.0004\tTraining Accuracy: 1.0000\tValidation loss: 0.4335\tValidation accuracy: 0.7500\n",
      "Epoch [128]:\tTraining loss: 0.0004\tTraining Accuracy: 1.0000\tValidation loss: 0.4335\tValidation accuracy: 0.7500\n",
      "Epoch [129]:\tTraining loss: 0.0004\tTraining Accuracy: 1.0000\tValidation loss: 0.4334\tValidation accuracy: 0.7500\n",
      "Epoch [130]:\tTraining loss: 0.0004\tTraining Accuracy: 1.0000\tValidation loss: 0.4334\tValidation accuracy: 0.7500\n",
      "Epoch [131]:\tTraining loss: 0.0004\tTraining Accuracy: 1.0000\tValidation loss: 0.4333\tValidation accuracy: 0.7500\n",
      "Epoch [132]:\tTraining loss: 0.0004\tTraining Accuracy: 1.0000\tValidation loss: 0.4333\tValidation accuracy: 0.7500\n",
      "Epoch [133]:\tTraining loss: 0.0004\tTraining Accuracy: 1.0000\tValidation loss: 0.4332\tValidation accuracy: 0.7500\n",
      "Epoch [134]:\tTraining loss: 0.0004\tTraining Accuracy: 1.0000\tValidation loss: 0.4332\tValidation accuracy: 0.7500\n",
      "Epoch [135]:\tTraining loss: 0.0004\tTraining Accuracy: 1.0000\tValidation loss: 0.4331\tValidation accuracy: 0.7500\n",
      "Epoch [136]:\tTraining loss: 0.0004\tTraining Accuracy: 1.0000\tValidation loss: 0.4331\tValidation accuracy: 0.7500\n",
      "Epoch [137]:\tTraining loss: 0.0004\tTraining Accuracy: 1.0000\tValidation loss: 0.4330\tValidation accuracy: 0.7500\n",
      "Epoch [138]:\tTraining loss: 0.0004\tTraining Accuracy: 1.0000\tValidation loss: 0.4330\tValidation accuracy: 0.7500\n",
      "Epoch [139]:\tTraining loss: 0.0004\tTraining Accuracy: 1.0000\tValidation loss: 0.4329\tValidation accuracy: 0.7500\n",
      "Epoch [140]:\tTraining loss: 0.0004\tTraining Accuracy: 1.0000\tValidation loss: 0.4329\tValidation accuracy: 0.7500\n",
      "Epoch [141]:\tTraining loss: 0.0004\tTraining Accuracy: 1.0000\tValidation loss: 0.4328\tValidation accuracy: 0.7500\n",
      "Epoch [142]:\tTraining loss: 0.0004\tTraining Accuracy: 1.0000\tValidation loss: 0.4328\tValidation accuracy: 0.7500\n",
      "Epoch [143]:\tTraining loss: 0.0004\tTraining Accuracy: 1.0000\tValidation loss: 0.4328\tValidation accuracy: 0.7500\n",
      "Epoch [144]:\tTraining loss: 0.0004\tTraining Accuracy: 1.0000\tValidation loss: 0.4327\tValidation accuracy: 0.7500\n",
      "Epoch [145]:\tTraining loss: 0.0004\tTraining Accuracy: 1.0000\tValidation loss: 0.4327\tValidation accuracy: 0.7500\n",
      "Epoch [146]:\tTraining loss: 0.0004\tTraining Accuracy: 1.0000\tValidation loss: 0.4327\tValidation accuracy: 0.7500\n",
      "Epoch [147]:\tTraining loss: 0.0004\tTraining Accuracy: 1.0000\tValidation loss: 0.4326\tValidation accuracy: 0.7500\n",
      "Epoch [148]:\tTraining loss: 0.0004\tTraining Accuracy: 1.0000\tValidation loss: 0.4326\tValidation accuracy: 0.7500\n",
      "Epoch [149]:\tTraining loss: 0.0004\tTraining Accuracy: 1.0000\tValidation loss: 0.4326\tValidation accuracy: 0.7500\n",
      "Epoch [150]:\tTraining loss: 0.0004\tTraining Accuracy: 1.0000\tValidation loss: 0.4325\tValidation accuracy: 0.7500\n",
      "Epoch [151]:\tTraining loss: 0.0004\tTraining Accuracy: 1.0000\tValidation loss: 0.4325\tValidation accuracy: 0.7500\n",
      "Epoch [152]:\tTraining loss: 0.0004\tTraining Accuracy: 1.0000\tValidation loss: 0.4324\tValidation accuracy: 0.7500\n",
      "Epoch [153]:\tTraining loss: 0.0004\tTraining Accuracy: 1.0000\tValidation loss: 0.4324\tValidation accuracy: 0.7500\n",
      "Epoch [154]:\tTraining loss: 0.0004\tTraining Accuracy: 1.0000\tValidation loss: 0.4324\tValidation accuracy: 0.7500\n",
      "Epoch [155]:\tTraining loss: 0.0004\tTraining Accuracy: 1.0000\tValidation loss: 0.4324\tValidation accuracy: 0.7500\n",
      "Epoch [156]:\tTraining loss: 0.0004\tTraining Accuracy: 1.0000\tValidation loss: 0.4323\tValidation accuracy: 0.7500\n",
      "Epoch [157]:\tTraining loss: 0.0004\tTraining Accuracy: 1.0000\tValidation loss: 0.4323\tValidation accuracy: 0.7500\n",
      "Epoch [158]:\tTraining loss: 0.0004\tTraining Accuracy: 1.0000\tValidation loss: 0.4322\tValidation accuracy: 0.7500\n",
      "Epoch [159]:\tTraining loss: 0.0004\tTraining Accuracy: 1.0000\tValidation loss: 0.4322\tValidation accuracy: 0.7500\n",
      "Epoch [160]:\tTraining loss: 0.0004\tTraining Accuracy: 1.0000\tValidation loss: 0.4322\tValidation accuracy: 0.7500\n",
      "Epoch [161]:\tTraining loss: 0.0004\tTraining Accuracy: 1.0000\tValidation loss: 0.4322\tValidation accuracy: 0.7500\n",
      "Epoch [162]:\tTraining loss: 0.0004\tTraining Accuracy: 1.0000\tValidation loss: 0.4321\tValidation accuracy: 0.7500\n",
      "Epoch [163]:\tTraining loss: 0.0004\tTraining Accuracy: 1.0000\tValidation loss: 0.4321\tValidation accuracy: 0.7500\n",
      "Epoch [164]:\tTraining loss: 0.0004\tTraining Accuracy: 1.0000\tValidation loss: 0.4321\tValidation accuracy: 0.7500\n",
      "Epoch [165]:\tTraining loss: 0.0004\tTraining Accuracy: 1.0000\tValidation loss: 0.4321\tValidation accuracy: 0.7500\n",
      "Epoch [166]:\tTraining loss: 0.0004\tTraining Accuracy: 1.0000\tValidation loss: 0.4320\tValidation accuracy: 0.7500\n",
      "Epoch [167]:\tTraining loss: 0.0004\tTraining Accuracy: 1.0000\tValidation loss: 0.4320\tValidation accuracy: 0.7500\n",
      "Epoch [168]:\tTraining loss: 0.0004\tTraining Accuracy: 1.0000\tValidation loss: 0.4320\tValidation accuracy: 0.7500\n",
      "Epoch [169]:\tTraining loss: 0.0004\tTraining Accuracy: 1.0000\tValidation loss: 0.4320\tValidation accuracy: 0.7500\n",
      "Epoch [170]:\tTraining loss: 0.0004\tTraining Accuracy: 1.0000\tValidation loss: 0.4319\tValidation accuracy: 0.7500\n",
      "Epoch [171]:\tTraining loss: 0.0004\tTraining Accuracy: 1.0000\tValidation loss: 0.4319\tValidation accuracy: 0.7500\n",
      "Epoch [172]:\tTraining loss: 0.0004\tTraining Accuracy: 1.0000\tValidation loss: 0.4319\tValidation accuracy: 0.7500\n",
      "Epoch [173]:\tTraining loss: 0.0004\tTraining Accuracy: 1.0000\tValidation loss: 0.4319\tValidation accuracy: 0.7500\n",
      "Epoch [174]:\tTraining loss: 0.0004\tTraining Accuracy: 1.0000\tValidation loss: 0.4319\tValidation accuracy: 0.7500\n",
      "Epoch [175]:\tTraining loss: 0.0004\tTraining Accuracy: 1.0000\tValidation loss: 0.4318\tValidation accuracy: 0.7500\n",
      "Epoch [176]:\tTraining loss: 0.0004\tTraining Accuracy: 1.0000\tValidation loss: 0.4318\tValidation accuracy: 0.7500\n",
      "Epoch [177]:\tTraining loss: 0.0004\tTraining Accuracy: 1.0000\tValidation loss: 0.4318\tValidation accuracy: 0.7500\n",
      "Epoch [178]:\tTraining loss: 0.0004\tTraining Accuracy: 1.0000\tValidation loss: 0.4317\tValidation accuracy: 0.7500\n",
      "Epoch [179]:\tTraining loss: 0.0004\tTraining Accuracy: 1.0000\tValidation loss: 0.4317\tValidation accuracy: 0.7500\n",
      "Epoch [180]:\tTraining loss: 0.0004\tTraining Accuracy: 1.0000\tValidation loss: 0.4317\tValidation accuracy: 0.7500\n",
      "Epoch [181]:\tTraining loss: 0.0004\tTraining Accuracy: 1.0000\tValidation loss: 0.4317\tValidation accuracy: 0.7500\n",
      "Epoch [182]:\tTraining loss: 0.0004\tTraining Accuracy: 1.0000\tValidation loss: 0.4317\tValidation accuracy: 0.7500\n",
      "Epoch [183]:\tTraining loss: 0.0004\tTraining Accuracy: 1.0000\tValidation loss: 0.4316\tValidation accuracy: 0.7500\n",
      "Epoch [184]:\tTraining loss: 0.0004\tTraining Accuracy: 1.0000\tValidation loss: 0.4316\tValidation accuracy: 0.7500\n",
      "Epoch [185]:\tTraining loss: 0.0004\tTraining Accuracy: 1.0000\tValidation loss: 0.4316\tValidation accuracy: 0.7500\n",
      "Epoch [186]:\tTraining loss: 0.0004\tTraining Accuracy: 1.0000\tValidation loss: 0.4316\tValidation accuracy: 0.7500\n",
      "Epoch [187]:\tTraining loss: 0.0004\tTraining Accuracy: 1.0000\tValidation loss: 0.4316\tValidation accuracy: 0.7500\n",
      "Epoch [188]:\tTraining loss: 0.0004\tTraining Accuracy: 1.0000\tValidation loss: 0.4316\tValidation accuracy: 0.7500\n",
      "Epoch [189]:\tTraining loss: 0.0004\tTraining Accuracy: 1.0000\tValidation loss: 0.4316\tValidation accuracy: 0.7500\n",
      "Epoch [190]:\tTraining loss: 0.0004\tTraining Accuracy: 1.0000\tValidation loss: 0.4315\tValidation accuracy: 0.7500\n",
      "Epoch [191]:\tTraining loss: 0.0004\tTraining Accuracy: 1.0000\tValidation loss: 0.4315\tValidation accuracy: 0.7500\n",
      "Epoch [192]:\tTraining loss: 0.0003\tTraining Accuracy: 1.0000\tValidation loss: 0.4315\tValidation accuracy: 0.7500\n",
      "Epoch [193]:\tTraining loss: 0.0003\tTraining Accuracy: 1.0000\tValidation loss: 0.4315\tValidation accuracy: 0.7500\n",
      "Epoch [194]:\tTraining loss: 0.0003\tTraining Accuracy: 1.0000\tValidation loss: 0.4315\tValidation accuracy: 0.7500\n",
      "Epoch [195]:\tTraining loss: 0.0003\tTraining Accuracy: 1.0000\tValidation loss: 0.4315\tValidation accuracy: 0.7500\n",
      "Epoch [196]:\tTraining loss: 0.0003\tTraining Accuracy: 1.0000\tValidation loss: 0.4314\tValidation accuracy: 0.7500\n",
      "Epoch [197]:\tTraining loss: 0.0003\tTraining Accuracy: 1.0000\tValidation loss: 0.4314\tValidation accuracy: 0.7500\n",
      "Epoch [198]:\tTraining loss: 0.0003\tTraining Accuracy: 1.0000\tValidation loss: 0.4314\tValidation accuracy: 0.7500\n",
      "Epoch [199]:\tTraining loss: 0.0003\tTraining Accuracy: 1.0000\tValidation loss: 0.4314\tValidation accuracy: 0.7500\n",
      "Epoch [200]:\tTraining loss: 0.0003\tTraining Accuracy: 1.0000\tValidation loss: 0.4314\tValidation accuracy: 0.7500\n",
      "Epoch [201]:\tTraining loss: 0.0003\tTraining Accuracy: 1.0000\tValidation loss: 0.4314\tValidation accuracy: 0.7500\n",
      "Epoch [202]:\tTraining loss: 0.0003\tTraining Accuracy: 1.0000\tValidation loss: 0.4314\tValidation accuracy: 0.7500\n",
      "Epoch [203]:\tTraining loss: 0.0003\tTraining Accuracy: 1.0000\tValidation loss: 0.4313\tValidation accuracy: 0.7500\n",
      "Epoch [204]:\tTraining loss: 0.0003\tTraining Accuracy: 1.0000\tValidation loss: 0.4313\tValidation accuracy: 0.7500\n",
      "Epoch [205]:\tTraining loss: 0.0003\tTraining Accuracy: 1.0000\tValidation loss: 0.4313\tValidation accuracy: 0.7500\n",
      "Epoch [206]:\tTraining loss: 0.0003\tTraining Accuracy: 1.0000\tValidation loss: 0.4313\tValidation accuracy: 0.7500\n",
      "Epoch [207]:\tTraining loss: 0.0003\tTraining Accuracy: 1.0000\tValidation loss: 0.4313\tValidation accuracy: 0.7500\n",
      "Epoch [208]:\tTraining loss: 0.0003\tTraining Accuracy: 1.0000\tValidation loss: 0.4313\tValidation accuracy: 0.7500\n",
      "Epoch [209]:\tTraining loss: 0.0003\tTraining Accuracy: 1.0000\tValidation loss: 0.4313\tValidation accuracy: 0.7500\n",
      "Epoch [210]:\tTraining loss: 0.0003\tTraining Accuracy: 1.0000\tValidation loss: 0.4312\tValidation accuracy: 0.7500\n",
      "Epoch [211]:\tTraining loss: 0.0003\tTraining Accuracy: 1.0000\tValidation loss: 0.4312\tValidation accuracy: 0.7500\n",
      "Epoch [212]:\tTraining loss: 0.0003\tTraining Accuracy: 1.0000\tValidation loss: 0.4312\tValidation accuracy: 0.7500\n",
      "Epoch [213]:\tTraining loss: 0.0003\tTraining Accuracy: 1.0000\tValidation loss: 0.4312\tValidation accuracy: 0.7500\n",
      "Epoch [214]:\tTraining loss: 0.0003\tTraining Accuracy: 1.0000\tValidation loss: 0.4312\tValidation accuracy: 0.7500\n",
      "Epoch [215]:\tTraining loss: 0.0003\tTraining Accuracy: 1.0000\tValidation loss: 0.4312\tValidation accuracy: 0.7500\n",
      "Epoch [216]:\tTraining loss: 0.0003\tTraining Accuracy: 1.0000\tValidation loss: 0.4312\tValidation accuracy: 0.7500\n",
      "Epoch [217]:\tTraining loss: 0.0003\tTraining Accuracy: 1.0000\tValidation loss: 0.4312\tValidation accuracy: 0.7500\n",
      "Epoch [218]:\tTraining loss: 0.0003\tTraining Accuracy: 1.0000\tValidation loss: 0.4312\tValidation accuracy: 0.7500\n",
      "Epoch [219]:\tTraining loss: 0.0003\tTraining Accuracy: 1.0000\tValidation loss: 0.4312\tValidation accuracy: 0.7500\n",
      "Epoch [220]:\tTraining loss: 0.0003\tTraining Accuracy: 1.0000\tValidation loss: 0.4311\tValidation accuracy: 0.7500\n",
      "Epoch [221]:\tTraining loss: 0.0003\tTraining Accuracy: 1.0000\tValidation loss: 0.4311\tValidation accuracy: 0.7500\n",
      "Epoch [222]:\tTraining loss: 0.0003\tTraining Accuracy: 1.0000\tValidation loss: 0.4311\tValidation accuracy: 0.7500\n",
      "Epoch [223]:\tTraining loss: 0.0003\tTraining Accuracy: 1.0000\tValidation loss: 0.4311\tValidation accuracy: 0.7500\n",
      "Epoch [224]:\tTraining loss: 0.0003\tTraining Accuracy: 1.0000\tValidation loss: 0.4311\tValidation accuracy: 0.7500\n",
      "Epoch [225]:\tTraining loss: 0.0003\tTraining Accuracy: 1.0000\tValidation loss: 0.4311\tValidation accuracy: 0.7500\n",
      "Epoch [226]:\tTraining loss: 0.0003\tTraining Accuracy: 1.0000\tValidation loss: 0.4311\tValidation accuracy: 0.7500\n",
      "Epoch [227]:\tTraining loss: 0.0003\tTraining Accuracy: 1.0000\tValidation loss: 0.4311\tValidation accuracy: 0.7500\n",
      "Epoch [228]:\tTraining loss: 0.0003\tTraining Accuracy: 1.0000\tValidation loss: 0.4311\tValidation accuracy: 0.7500\n",
      "Epoch [229]:\tTraining loss: 0.0003\tTraining Accuracy: 1.0000\tValidation loss: 0.4310\tValidation accuracy: 0.7500\n",
      "Epoch [230]:\tTraining loss: 0.0003\tTraining Accuracy: 1.0000\tValidation loss: 0.4311\tValidation accuracy: 0.7500\n",
      "Epoch [231]:\tTraining loss: 0.0003\tTraining Accuracy: 1.0000\tValidation loss: 0.4310\tValidation accuracy: 0.7500\n",
      "Epoch [232]:\tTraining loss: 0.0003\tTraining Accuracy: 1.0000\tValidation loss: 0.4310\tValidation accuracy: 0.7500\n",
      "Epoch [233]:\tTraining loss: 0.0003\tTraining Accuracy: 1.0000\tValidation loss: 0.4310\tValidation accuracy: 0.7500\n",
      "Epoch [234]:\tTraining loss: 0.0003\tTraining Accuracy: 1.0000\tValidation loss: 0.4310\tValidation accuracy: 0.7500\n",
      "Epoch [235]:\tTraining loss: 0.0003\tTraining Accuracy: 1.0000\tValidation loss: 0.4310\tValidation accuracy: 0.7500\n",
      "Epoch [236]:\tTraining loss: 0.0003\tTraining Accuracy: 1.0000\tValidation loss: 0.4310\tValidation accuracy: 0.7500\n",
      "Epoch [237]:\tTraining loss: 0.0003\tTraining Accuracy: 1.0000\tValidation loss: 0.4310\tValidation accuracy: 0.7500\n",
      "Epoch [238]:\tTraining loss: 0.0003\tTraining Accuracy: 1.0000\tValidation loss: 0.4310\tValidation accuracy: 0.7500\n",
      "Epoch [239]:\tTraining loss: 0.0003\tTraining Accuracy: 1.0000\tValidation loss: 0.4310\tValidation accuracy: 0.7500\n",
      "Epoch [240]:\tTraining loss: 0.0003\tTraining Accuracy: 1.0000\tValidation loss: 0.4310\tValidation accuracy: 0.7500\n",
      "Epoch [241]:\tTraining loss: 0.0003\tTraining Accuracy: 1.0000\tValidation loss: 0.4310\tValidation accuracy: 0.7500\n",
      "Epoch [242]:\tTraining loss: 0.0003\tTraining Accuracy: 1.0000\tValidation loss: 0.4310\tValidation accuracy: 0.7500\n",
      "Epoch [243]:\tTraining loss: 0.0003\tTraining Accuracy: 1.0000\tValidation loss: 0.4310\tValidation accuracy: 0.7500\n",
      "Epoch [244]:\tTraining loss: 0.0003\tTraining Accuracy: 1.0000\tValidation loss: 0.4309\tValidation accuracy: 0.7500\n",
      "Epoch [245]:\tTraining loss: 0.0003\tTraining Accuracy: 1.0000\tValidation loss: 0.4309\tValidation accuracy: 0.7500\n",
      "Epoch [246]:\tTraining loss: 0.0003\tTraining Accuracy: 1.0000\tValidation loss: 0.4309\tValidation accuracy: 0.7500\n",
      "Epoch [247]:\tTraining loss: 0.0003\tTraining Accuracy: 1.0000\tValidation loss: 0.4309\tValidation accuracy: 0.7500\n",
      "Epoch [248]:\tTraining loss: 0.0003\tTraining Accuracy: 1.0000\tValidation loss: 0.4309\tValidation accuracy: 0.7500\n",
      "Epoch [249]:\tTraining loss: 0.0003\tTraining Accuracy: 1.0000\tValidation loss: 0.4309\tValidation accuracy: 0.7500\n",
      "Epoch [250]:\tTraining loss: 0.0003\tTraining Accuracy: 1.0000\tValidation loss: 0.4309\tValidation accuracy: 0.7500\n",
      "Epoch [251]:\tTraining loss: 0.0003\tTraining Accuracy: 1.0000\tValidation loss: 0.4309\tValidation accuracy: 0.7500\n",
      "Epoch [252]:\tTraining loss: 0.0003\tTraining Accuracy: 1.0000\tValidation loss: 0.4309\tValidation accuracy: 0.7500\n",
      "Epoch [253]:\tTraining loss: 0.0003\tTraining Accuracy: 1.0000\tValidation loss: 0.4309\tValidation accuracy: 0.7500\n",
      "Epoch [254]:\tTraining loss: 0.0003\tTraining Accuracy: 1.0000\tValidation loss: 0.4309\tValidation accuracy: 0.7500\n",
      "Epoch [255]:\tTraining loss: 0.0003\tTraining Accuracy: 1.0000\tValidation loss: 0.4309\tValidation accuracy: 0.7500\n",
      "Epoch [256]:\tTraining loss: 0.0003\tTraining Accuracy: 1.0000\tValidation loss: 0.4309\tValidation accuracy: 0.7500\n",
      "Epoch [257]:\tTraining loss: 0.0003\tTraining Accuracy: 1.0000\tValidation loss: 0.4309\tValidation accuracy: 0.7500\n",
      "Epoch [258]:\tTraining loss: 0.0003\tTraining Accuracy: 1.0000\tValidation loss: 0.4309\tValidation accuracy: 0.7500\n",
      "Epoch [259]:\tTraining loss: 0.0003\tTraining Accuracy: 1.0000\tValidation loss: 0.4309\tValidation accuracy: 0.7500\n",
      "Epoch [260]:\tTraining loss: 0.0003\tTraining Accuracy: 1.0000\tValidation loss: 0.4309\tValidation accuracy: 0.7500\n",
      "Epoch [261]:\tTraining loss: 0.0003\tTraining Accuracy: 1.0000\tValidation loss: 0.4308\tValidation accuracy: 0.7500\n",
      "Epoch [262]:\tTraining loss: 0.0003\tTraining Accuracy: 1.0000\tValidation loss: 0.4308\tValidation accuracy: 0.7500\n",
      "Epoch [263]:\tTraining loss: 0.0003\tTraining Accuracy: 1.0000\tValidation loss: 0.4308\tValidation accuracy: 0.7500\n",
      "Epoch [264]:\tTraining loss: 0.0003\tTraining Accuracy: 1.0000\tValidation loss: 0.4308\tValidation accuracy: 0.7500\n",
      "Epoch [265]:\tTraining loss: 0.0003\tTraining Accuracy: 1.0000\tValidation loss: 0.4308\tValidation accuracy: 0.7500\n",
      "Epoch [266]:\tTraining loss: 0.0003\tTraining Accuracy: 1.0000\tValidation loss: 0.4308\tValidation accuracy: 0.7500\n",
      "Epoch [267]:\tTraining loss: 0.0003\tTraining Accuracy: 1.0000\tValidation loss: 0.4308\tValidation accuracy: 0.7500\n",
      "Epoch [268]:\tTraining loss: 0.0003\tTraining Accuracy: 1.0000\tValidation loss: 0.4308\tValidation accuracy: 0.7500\n",
      "Epoch [269]:\tTraining loss: 0.0003\tTraining Accuracy: 1.0000\tValidation loss: 0.4308\tValidation accuracy: 0.7500\n",
      "Epoch [270]:\tTraining loss: 0.0003\tTraining Accuracy: 1.0000\tValidation loss: 0.4308\tValidation accuracy: 0.7500\n",
      "Epoch [271]:\tTraining loss: 0.0003\tTraining Accuracy: 1.0000\tValidation loss: 0.4308\tValidation accuracy: 0.7500\n",
      "Epoch [272]:\tTraining loss: 0.0003\tTraining Accuracy: 1.0000\tValidation loss: 0.4308\tValidation accuracy: 0.7500\n",
      "Epoch [273]:\tTraining loss: 0.0003\tTraining Accuracy: 1.0000\tValidation loss: 0.4308\tValidation accuracy: 0.7500\n",
      "Epoch [274]:\tTraining loss: 0.0003\tTraining Accuracy: 1.0000\tValidation loss: 0.4308\tValidation accuracy: 0.7500\n",
      "Epoch [275]:\tTraining loss: 0.0003\tTraining Accuracy: 1.0000\tValidation loss: 0.4308\tValidation accuracy: 0.7500\n",
      "Epoch [276]:\tTraining loss: 0.0003\tTraining Accuracy: 1.0000\tValidation loss: 0.4308\tValidation accuracy: 0.7500\n",
      "Epoch [277]:\tTraining loss: 0.0003\tTraining Accuracy: 1.0000\tValidation loss: 0.4308\tValidation accuracy: 0.7500\n",
      "Epoch [278]:\tTraining loss: 0.0003\tTraining Accuracy: 1.0000\tValidation loss: 0.4308\tValidation accuracy: 0.7500\n",
      "Epoch [279]:\tTraining loss: 0.0003\tTraining Accuracy: 1.0000\tValidation loss: 0.4308\tValidation accuracy: 0.7500\n",
      "Epoch [280]:\tTraining loss: 0.0003\tTraining Accuracy: 1.0000\tValidation loss: 0.4308\tValidation accuracy: 0.7500\n",
      "Epoch [281]:\tTraining loss: 0.0003\tTraining Accuracy: 1.0000\tValidation loss: 0.4308\tValidation accuracy: 0.7500\n",
      "Epoch [282]:\tTraining loss: 0.0003\tTraining Accuracy: 1.0000\tValidation loss: 0.4308\tValidation accuracy: 0.7500\n",
      "Epoch [283]:\tTraining loss: 0.0003\tTraining Accuracy: 1.0000\tValidation loss: 0.4308\tValidation accuracy: 0.7500\n",
      "Epoch [284]:\tTraining loss: 0.0003\tTraining Accuracy: 1.0000\tValidation loss: 0.4308\tValidation accuracy: 0.7500\n",
      "Epoch [285]:\tTraining loss: 0.0003\tTraining Accuracy: 1.0000\tValidation loss: 0.4308\tValidation accuracy: 0.7500\n",
      "Epoch [286]:\tTraining loss: 0.0003\tTraining Accuracy: 1.0000\tValidation loss: 0.4308\tValidation accuracy: 0.7500\n",
      "Epoch [287]:\tTraining loss: 0.0003\tTraining Accuracy: 1.0000\tValidation loss: 0.4308\tValidation accuracy: 0.7500\n",
      "Epoch [288]:\tTraining loss: 0.0003\tTraining Accuracy: 1.0000\tValidation loss: 0.4307\tValidation accuracy: 0.7500\n",
      "Epoch [289]:\tTraining loss: 0.0003\tTraining Accuracy: 1.0000\tValidation loss: 0.4307\tValidation accuracy: 0.7500\n",
      "Epoch [290]:\tTraining loss: 0.0003\tTraining Accuracy: 1.0000\tValidation loss: 0.4307\tValidation accuracy: 0.7500\n",
      "Epoch [291]:\tTraining loss: 0.0003\tTraining Accuracy: 1.0000\tValidation loss: 0.4307\tValidation accuracy: 0.7500\n",
      "Epoch [292]:\tTraining loss: 0.0003\tTraining Accuracy: 1.0000\tValidation loss: 0.4307\tValidation accuracy: 0.7500\n",
      "Epoch [293]:\tTraining loss: 0.0003\tTraining Accuracy: 1.0000\tValidation loss: 0.4307\tValidation accuracy: 0.7500\n",
      "Epoch [294]:\tTraining loss: 0.0003\tTraining Accuracy: 1.0000\tValidation loss: 0.4307\tValidation accuracy: 0.7500\n",
      "Epoch [295]:\tTraining loss: 0.0003\tTraining Accuracy: 1.0000\tValidation loss: 0.4307\tValidation accuracy: 0.7500\n",
      "Epoch [296]:\tTraining loss: 0.0003\tTraining Accuracy: 1.0000\tValidation loss: 0.4307\tValidation accuracy: 0.7500\n",
      "Epoch [297]:\tTraining loss: 0.0003\tTraining Accuracy: 1.0000\tValidation loss: 0.4307\tValidation accuracy: 0.7500\n",
      "Epoch [298]:\tTraining loss: 0.0003\tTraining Accuracy: 1.0000\tValidation loss: 0.4307\tValidation accuracy: 0.7500\n",
      "Epoch [299]:\tTraining loss: 0.0003\tTraining Accuracy: 1.0000\tValidation loss: 0.4307\tValidation accuracy: 0.7500\n",
      "Epoch [300]:\tTraining loss: 0.0003\tTraining Accuracy: 1.0000\tValidation loss: 0.4307\tValidation accuracy: 0.7500\n"
     ]
    },
    {
     "data": {
      "text/plain": [
       "(array([0, 1, 1, 1, 1, 1, 0, 1, 1, 1, 1, 1]),\n",
       " array([0, 0, 0, 0, 0, 0, 0, 0, 1, 0, 0, 0]))"
      ]
     },
     "execution_count": 35,
     "metadata": {},
     "output_type": "execute_result"
    }
   ],
   "source": [
    "cnn = CNNClassifier(learning_rate=0.00015, batch_size=3, gamma=0.8, weight_decay=0.0)\n",
    "cnn.classify(graphs, targets, verbose=True, multilayer=True)"
   ]
  },
  {
   "cell_type": "code",
   "execution_count": null,
   "metadata": {},
   "outputs": [],
   "source": [
    "plot_losses(hist)\n",
    "plot_accuracies(hist)"
   ]
  },
  {
   "cell_type": "code",
   "execution_count": null,
   "metadata": {},
   "outputs": [],
   "source": []
  }
 ],
 "metadata": {
  "kernelspec": {
   "display_name": "Python 3",
   "language": "python",
   "name": "python3"
  },
  "language_info": {
   "codemirror_mode": {
    "name": "ipython",
    "version": 3
   },
   "file_extension": ".py",
   "mimetype": "text/x-python",
   "name": "python",
   "nbconvert_exporter": "python",
   "pygments_lexer": "ipython3",
   "version": "3.9.13"
  },
  "orig_nbformat": 4
 },
 "nbformat": 4,
 "nbformat_minor": 2
}
